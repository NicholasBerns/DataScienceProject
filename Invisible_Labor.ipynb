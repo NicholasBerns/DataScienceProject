{
 "cells": [
  {
   "cell_type": "markdown",
   "id": "f26a52e7",
   "metadata": {},
   "source": [
    "# Invisible Labor"
   ]
  },
  {
   "cell_type": "markdown",
   "id": "04fe5e6d",
   "metadata": {
    "tags": []
   },
   "source": [
    "**Import Dependencies**"
   ]
  },
  {
   "cell_type": "code",
   "execution_count": 2,
   "id": "b28de7fa-3a3f-40c4-b6b3-ca5dd1f91e2f",
   "metadata": {},
   "outputs": [],
   "source": [
    "import pandas\n",
    "import pandas as pd"
   ]
  },
  {
   "cell_type": "markdown",
   "id": "79244c4a",
   "metadata": {},
   "source": [
    "Use this cell to import MTurk Data"
   ]
  },
  {
   "cell_type": "code",
   "execution_count": 3,
   "id": "c8d44ed1",
   "metadata": {},
   "outputs": [],
   "source": [
    "# Reads in CSV and sets the appropriate column names\n",
    "df_mturk = pd.read_csv(\"data/records.csv\", names=['ID', 'Current', 'Event', 'Extra', 'Platform', 'Skip', 'Subtype', 'Time', 'Type', 'User'])"
   ]
  },
  {
   "cell_type": "markdown",
   "id": "ef5e597d",
   "metadata": {},
   "source": [
    "Use this cell to import Toloka Data"
   ]
  },
  {
   "cell_type": "code",
   "execution_count": 5,
   "id": "f9352d23",
   "metadata": {},
   "outputs": [],
   "source": [
    "# Reads in CSV, drops the first row with offset headings, sets new headings, and drops the two irrelevant columns\n",
    "df_toloka = pd.read_csv(\"data/telemetry_db.csv\")\n",
    "df_toloka.drop(0)\n",
    "df_toloka.columns = ['ID', 'Current', 'Event', 'Extra', 'Platform', 'Skip', 'Subtype', 'Time', 'Type', 'User', 'Irrelevant', 'Unused']\n",
    "df_toloka = df_toloka.drop(columns=['Irrelevant', 'Unused'])"
   ]
  },
  {
   "cell_type": "markdown",
   "id": "f92317af",
   "metadata": {},
   "source": [
    "Print Basic information regarding DataFrames"
   ]
  },
  {
   "cell_type": "code",
   "execution_count": 6,
   "id": "9c47b3f7",
   "metadata": {},
   "outputs": [
    {
     "name": "stdout",
     "output_type": "stream",
     "text": [
      "   ID                                            Current       Event Extra  \\\n",
      "0   1  https://docs.google.com/forms/d/e/1FAIpQLScvig...   PAGE_LOAD   NaN   \n",
      "1   2  https://docs.google.com/forms/d/e/1FAIpQLScvig...   PAGE_BLUR   NaN   \n",
      "2   3  https://worker.mturk.com/projects/354DQCRRIJZH...  TAB_CHANGE   NaN   \n",
      "3   4  https://docs.google.com/forms/d/e/1FAIpQLScvig...  PAGE_FOCUS   NaN   \n",
      "4   5  https://docs.google.com/forms/d/e/1FAIpQLScvig...  TAB_CHANGE   NaN   \n",
      "\n",
      "  Platform  Skip       Subtype           Time     Type  \\\n",
      "0    OTHER   0.0         OTHER  1588994215395    OTHER   \n",
      "1    OTHER   0.0         OTHER  1588994217989    OTHER   \n",
      "2    MTURK   0.0  TASK_STARTED  1588994218051  WORKING   \n",
      "3    OTHER   0.0         OTHER  1588994221371    OTHER   \n",
      "4    OTHER   0.0         OTHER  1588994221397    OTHER   \n",
      "\n",
      "                               User  \n",
      "0  ae862298385abab2a0a1619f8cedef9d  \n",
      "1  ae862298385abab2a0a1619f8cedef9d  \n",
      "2  ae862298385abab2a0a1619f8cedef9d  \n",
      "3  ae862298385abab2a0a1619f8cedef9d  \n",
      "4  ae862298385abab2a0a1619f8cedef9d  \n",
      "\n",
      "<class 'pandas.core.frame.DataFrame'>\n",
      "RangeIndex: 3496374 entries, 0 to 3496373\n",
      "Data columns (total 10 columns):\n",
      " #   Column    Dtype  \n",
      "---  ------    -----  \n",
      " 0   ID        int64  \n",
      " 1   Current   object \n",
      " 2   Event     object \n",
      " 3   Extra     object \n",
      " 4   Platform  object \n",
      " 5   Skip      float64\n",
      " 6   Subtype   object \n",
      " 7   Time      int64  \n",
      " 8   Type      object \n",
      " 9   User      object \n",
      "dtypes: float64(1), int64(2), object(7)\n",
      "memory usage: 266.8+ MB\n",
      "None\n",
      "\n",
      "Index(['ID', 'Current', 'Event', 'Extra', 'Platform', 'Skip', 'Subtype',\n",
      "       'Time', 'Type', 'User'],\n",
      "      dtype='object')\n",
      "\n",
      "\n",
      "        ID                                            Current       Event  \\\n",
      "0   495553  https://toloka.yandex.com/task/31577897/0001e1...   PAGE_LOAD   \n",
      "1  1605885                    https://toloka.yandex.com/tasks  TAB_CLOSED   \n",
      "2        0                    https://toloka.yandex.com/tasks   PAGE_BLUR   \n",
      "3        0  https://sandbox.toloka.yandex.com/es/task/1083...  PAGE_FOCUS   \n",
      "4        1  https://sandbox.toloka.yandex.com/es/task/1083...  PAGE_FOCUS   \n",
      "\n",
      "  Extra Platform  Skip        Subtype          Time       Type  \\\n",
      "0   NaN   TOLOKA   0.0   TASK_STARTED  1.290745e+12    WORKING   \n",
      "1   NaN   TOLOKA   0.0     TASKS_LIST  1.351745e+12  SEARCHING   \n",
      "2   NaN   TOLOKA   NaN     TASKS_LIST  1.642014e+12  SEARCHING   \n",
      "3   NaN   TOLOKA   0.0   TASK_STARTED  1.642719e+12    WORKING   \n",
      "4   NaN   TOLOKA   0.0  TASK_SUBMITED  1.642719e+12    WORKING   \n",
      "\n",
      "                               User  \n",
      "0   311ad54dd8763dd3365ea2342627aaf  \n",
      "1  fd978fa116dde1ead273fa5fc7316697  \n",
      "2    d75e96a84a13b15a1f6291c4c8df8b  \n",
      "3  8d22505d156899a9e716e418221b2d10  \n",
      "4  8d22505d156899a9e716e418221b2d10  \n",
      "\n",
      "<class 'pandas.core.frame.DataFrame'>\n",
      "RangeIndex: 2894936 entries, 0 to 2894935\n",
      "Data columns (total 10 columns):\n",
      " #   Column    Dtype  \n",
      "---  ------    -----  \n",
      " 0   ID        int64  \n",
      " 1   Current   object \n",
      " 2   Event     object \n",
      " 3   Extra     object \n",
      " 4   Platform  object \n",
      " 5   Skip      float64\n",
      " 6   Subtype   object \n",
      " 7   Time      float64\n",
      " 8   Type      object \n",
      " 9   User      object \n",
      "dtypes: float64(2), int64(1), object(7)\n",
      "memory usage: 220.9+ MB\n",
      "None\n",
      "\n",
      "Index(['ID', 'Current', 'Event', 'Extra', 'Platform', 'Skip', 'Subtype',\n",
      "       'Time', 'Type', 'User'],\n",
      "      dtype='object')\n"
     ]
    }
   ],
   "source": [
    "print(df_mturk.head(), end=\"\\n\\n\")\n",
    "print(df_mturk.info(), end=\"\\n\\n\")\n",
    "print(df_mturk.columns, end=\"\\n\\n\\n\")\n",
    "\n",
    "print(df_toloka.head(), end=\"\\n\\n\")\n",
    "print(df_toloka.info(), end=\"\\n\\n\")\n",
    "print(df_toloka.columns)"
   ]
  }
 ],
 "metadata": {
  "kernelspec": {
   "display_name": "Python 3 (ipykernel)",
   "language": "python",
   "name": "python3"
  },
  "language_info": {
   "codemirror_mode": {
    "name": "ipython",
    "version": 3
   },
   "file_extension": ".py",
   "mimetype": "text/x-python",
   "name": "python",
   "nbconvert_exporter": "python",
   "pygments_lexer": "ipython3",
   "version": "3.11.5"
  }
 },
 "nbformat": 4,
 "nbformat_minor": 5
}
